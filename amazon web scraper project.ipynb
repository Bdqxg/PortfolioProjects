{
 "cells": [
  {
   "cell_type": "code",
   "execution_count": 3,
   "id": "89ba30a8-0258-48ed-9b9c-b2b7ac95e05b",
   "metadata": {},
   "outputs": [],
   "source": [
    "#import libraries\n",
    "\n",
    "from bs4 import BeautifulSoup\n",
    "import requests\n",
    "import smtplib #for sendig emails to your self\n",
    "import time\n",
    "import datetime"
   ]
  },
  {
   "cell_type": "code",
   "execution_count": 178,
   "id": "9f903169-164e-426a-b9b9-adacaf63d7dc",
   "metadata": {},
   "outputs": [
    {
     "name": "stdout",
     "output_type": "stream",
     "text": [
      "\n",
      "                    VAN HILL Damen Sportliche Ballerinas Flach Bequem Schuhe\n",
      "                   \n",
      "\n",
      "\n",
      "\n",
      "\n",
      "                    15,90 €\n",
      "                   \n",
      "\n",
      "\n",
      "\n",
      "\n",
      "\n",
      "                      15\n",
      "                      \n",
      "                       ,\n",
      "                      \n",
      "\n",
      "\n",
      "                      90\n",
      "                     \n",
      "\n",
      "                      €\n",
      "                     \n",
      "\n",
      "\n",
      "\n",
      "\n",
      "\n",
      "\n",
      "\n",
      "\n",
      "\n",
      "\n",
      "\n",
      "\n"
     ]
    }
   ],
   "source": [
    "#connect to website\n",
    "URL = 'https://www.amazon.de/gp/product/B0D5BFCF8J/ref=ewc_pr_img_2?smid=A3SLCXYMOIU03X&th=1&psc=1'\n",
    "\n",
    "#https://httpbin.org/get\n",
    "headers = {\"User-Agent\": \"Mozilla/5.0 (Macintosh; Intel Mac OS X 10_15_7) AppleWebKit/537.36 (KHTML, like Gecko) Chrome/135.0.0.0 Safari/537.36\"}\n",
    "\n",
    "page = requests.get(URL, headers = headers)\n",
    "\n",
    "Soup1 = BeautifulSoup(page.content, \"html.parser\")\n",
    "\n",
    "Soup2 = BeautifulSoup(Soup1.prettify(),) # make things look better\n",
    "\n",
    "#print(Soup2)\n",
    "\n",
    "\n",
    "title = Soup2.find(id = 'productTitle').get_text()\n",
    "\n",
    "print(title)\n",
    "\n",
    "price = Soup2.find(id = 'corePriceDisplay_desktop_feature_div').get_text()\n",
    "\n",
    "print(price)"
   ]
  },
  {
   "cell_type": "code",
   "execution_count": 179,
   "id": "8eb34497-4240-4a61-a62b-9a00e0928ffa",
   "metadata": {},
   "outputs": [
    {
     "name": "stdout",
     "output_type": "stream",
     "text": [
      "5\n"
     ]
    }
   ],
   "source": [
    "text = price.strip()\n",
    "\n",
    "#symbol = \"€\"\n",
    "#position = price.strip().find(symbol)\n",
    "#text.split(symbol)[0]\n",
    "#result = text.split(symbol)[0]\n",
    "#print(position)\n",
    "\n",
    "position = text.find('\\xa0')\n",
    "print(position)"
   ]
  },
  {
   "cell_type": "code",
   "execution_count": 180,
   "id": "a611c176-d633-4932-8e37-94a74faba187",
   "metadata": {},
   "outputs": [
    {
     "name": "stdout",
     "output_type": "stream",
     "text": [
      "15,90\n",
      "VAN HILL Damen Sportliche Ballerinas Flach Bequem Schuhe\n"
     ]
    },
    {
     "data": {
      "text/plain": [
       "str"
      ]
     },
     "execution_count": 180,
     "metadata": {},
     "output_type": "execute_result"
    }
   ],
   "source": [
    "#symbol = \",\"\n",
    "#result = text.split(symbol)[0]\n",
    "\n",
    "price = price.strip()[:position]\n",
    "title = title.strip()\n",
    "\n",
    "print(price)\n",
    "print(title)\n",
    "type(price)"
   ]
  },
  {
   "cell_type": "raw",
   "id": "b76b885b-ae73-4469-b8b9-c70b264a5482",
   "metadata": {},
   "source": []
  },
  {
   "cell_type": "code",
   "execution_count": 25,
   "id": "fb8e44e3-e4a3-4526-9931-b99b3b5ed4eb",
   "metadata": {},
   "outputs": [
    {
     "name": "stdout",
     "output_type": "stream",
     "text": [
      "2025-05-21\n"
     ]
    }
   ],
   "source": [
    "import datetime\n",
    "\n",
    "today =datetime.date.today()\n",
    "\n",
    "print(today)"
   ]
  },
  {
   "cell_type": "code",
   "execution_count": 33,
   "id": "973cce6a-1767-4104-98d3-ae03604d0ba3",
   "metadata": {},
   "outputs": [],
   "source": [
    "import csv\n",
    "\n",
    "header = ['Title', 'Price','Date']\n",
    "data = [title, price,today]\n",
    "\n",
    "type(data)\n",
    "\n",
    "with open('AmazonwebScraperDataset.csv','w', newline = '',encoding = 'UTF8') as f:\n",
    "    writer = csv.writer(f)\n",
    "    writer.writerow(header)\n",
    "    writer.writerow(data)\n",
    "    \n",
    "    #w represent for write, newline no space in between "
   ]
  },
  {
   "cell_type": "code",
   "execution_count": 36,
   "id": "e82604ca-40a3-4f9b-9c30-fb4fc6dfe697",
   "metadata": {},
   "outputs": [
    {
     "name": "stdout",
     "output_type": "stream",
     "text": [
      "                                               Title  Price        Date\n",
      "0  VAN HILL Damen Sportliche Ballerinas Flach Beq...  15,90  2025-05-21\n",
      "1  VAN HILL Damen Sportliche Ballerinas Flach Beq...  15,90  2025-05-21\n"
     ]
    }
   ],
   "source": [
    "import pandas as pd\n",
    "\n",
    "df= pd.read_csv(r\"/Users/jinyichen/AmazonwebScraperDataset.csv\")\n",
    "print(df)"
   ]
  },
  {
   "cell_type": "code",
   "execution_count": 35,
   "id": "cac0f01c-bf25-4d5f-b8f9-d3be2abb59f9",
   "metadata": {},
   "outputs": [],
   "source": [
    "#appending data\n",
    "with open('AmazonwebScraperDataset.csv','a+', newline = '',encoding = 'UTF8') as f:\n",
    "    writer = csv.writer(f)\n",
    "    writer.writerow(data)"
   ]
  },
  {
   "cell_type": "code",
   "execution_count": 37,
   "id": "8cecf4a0-90f9-4111-9450-0989650ff01a",
   "metadata": {},
   "outputs": [
    {
     "name": "stdout",
     "output_type": "stream",
     "text": [
      "                                               Title  Price        Date\n",
      "0  VAN HILL Damen Sportliche Ballerinas Flach Beq...  15,90  2025-05-21\n",
      "1  VAN HILL Damen Sportliche Ballerinas Flach Beq...  15,90  2025-05-21\n"
     ]
    }
   ],
   "source": [
    "df= pd.read_csv(r\"/Users/jinyichen/AmazonwebScraperDataset.csv\")\n",
    "print(df)\n",
    "\n",
    "#update everday automatically"
   ]
  },
  {
   "cell_type": "code",
   "execution_count": 136,
   "id": "f9880172-68aa-4e45-9b84-3b52fdd2a5bf",
   "metadata": {},
   "outputs": [],
   "source": [
    "def check_price():\n",
    "  URL = 'https://www.amazon.de/gp/product/B0D5BFCF8J/ref=ewc_pr_img_2?smid=A3SLCXYMOIU03X&th=1&psc=1'\n",
    "\n",
    "#https://httpbin.org/get\n",
    "  headers = {\"User-Agent\": \"Mozilla/5.0 (Macintosh; Intel Mac OS X 10_15_7) AppleWebKit/537.36 (KHTML, like Gecko) Chrome/135.0.0.0 Safari/537.36\"}\n",
    "\n",
    "  page = requests.get(URL, headers = headers) \n",
    "    \n",
    "\n",
    "  Soup1 = BeautifulSoup(page.content, \"html.parser\")\n",
    "  Soup2 = BeautifulSoup(Soup1.prettify(),) # make things look better\n",
    "  title = Soup2.find(id = 'productTitle').get_text()\n",
    "  price = Soup2.find(id = 'corePriceDisplay_desktop_feature_div').get_text()\n",
    "\n",
    "  price = price.strip()[:2]\n",
    "  title = title.strip()\n",
    "\n",
    "  import datetime\n",
    "\n",
    "  today =datetime.date.today()\n",
    "\n",
    "  import csv\n",
    "\n",
    "  header = ['Title', 'Price','Date']\n",
    "  data = [title, price,today]\n",
    "  with open('AmazonwebScraperDataset.csv','a+', newline = '',encoding = 'UTF8') as f:\n",
    "    writer = csv.writer(f)\n",
    "    writer.writerow(data)\n",
    "\n",
    "  if(float(price) < 16):\n",
    "    send_mail()"
   ]
  },
  {
   "cell_type": "code",
   "execution_count": 139,
   "id": "2c011be3-a194-472e-af06-fc240370e050",
   "metadata": {},
   "outputs": [
    {
     "ename": "KeyboardInterrupt",
     "evalue": "",
     "output_type": "error",
     "traceback": [
      "\u001b[0;31m---------------------------------------------------------------------------\u001b[0m",
      "\u001b[0;31mKeyboardInterrupt\u001b[0m                         Traceback (most recent call last)",
      "Cell \u001b[0;32mIn[139], line 3\u001b[0m\n\u001b[1;32m      1\u001b[0m \u001b[38;5;28;01mwhile\u001b[39;00m(\u001b[38;5;28;01mTrue\u001b[39;00m):\n\u001b[1;32m      2\u001b[0m     check_price()\n\u001b[0;32m----> 3\u001b[0m     time\u001b[38;5;241m.\u001b[39msleep(\u001b[38;5;241m5\u001b[39m)\n",
      "\u001b[0;31mKeyboardInterrupt\u001b[0m: "
     ]
    }
   ],
   "source": [
    "while(True):\n",
    "    check_price()\n",
    "    time.sleep(5) #5 seconds  #86400 for a day that is 24*60*60s\n",
    "\n",
    "#and then stop this maually with the pause button \n",
    "\n",
    "\n"
   ]
  },
  {
   "cell_type": "code",
   "execution_count": 90,
   "id": "7a95daf4-5ad3-4321-947d-795d179c65c3",
   "metadata": {},
   "outputs": [
    {
     "name": "stdout",
     "output_type": "stream",
     "text": [
      "                                                Title  Price        Date\n",
      "0   VAN HILL Damen Sportliche Ballerinas Flach Beq...  15,90  2025-05-21\n",
      "1   VAN HILL Damen Sportliche Ballerinas Flach Beq...  15,90  2025-05-21\n",
      "2   VAN HILL Damen Sportliche Ballerinas Flach Beq...  15,90  2025-05-21\n",
      "3   VAN HILL Damen Sportliche Ballerinas Flach Beq...  15,90  2025-05-21\n",
      "4   VAN HILL Damen Sportliche Ballerinas Flach Beq...  15,90  2025-05-21\n",
      "5   VAN HILL Damen Sportliche Ballerinas Flach Beq...  15,90  2025-05-21\n",
      "6   VAN HILL Damen Sportliche Ballerinas Flach Beq...  15,90  2025-05-21\n",
      "7   VAN HILL Damen Sportliche Ballerinas Flach Beq...  15,90  2025-05-21\n",
      "8   VAN HILL Damen Sportliche Ballerinas Flach Beq...  15,90  2025-05-21\n",
      "9   VAN HILL Damen Sportliche Ballerinas Flach Beq...  15,90  2025-05-21\n",
      "10  VAN HILL Damen Sportliche Ballerinas Flach Beq...     15  2025-05-21\n"
     ]
    }
   ],
   "source": [
    "df= pd.read_csv(r\"/Users/jinyichen/AmazonwebScraperDataset.csv\")\n",
    "print(df)\n",
    "\n"
   ]
  },
  {
   "cell_type": "code",
   "execution_count": 91,
   "id": "855277ad-424a-4263-9501-76b54fa55f88",
   "metadata": {},
   "outputs": [],
   "source": [
    "#if(price < 14):\n",
    "#    send_mail()"
   ]
  },
  {
   "cell_type": "code",
   "execution_count": 138,
   "id": "066da744-8a44-4d60-95bd-9c1c039bfd16",
   "metadata": {},
   "outputs": [],
   "source": [
    "def send_mail():\n",
    "    server = smtplib.SMTP_SSL('smtp.gmail.com',465)\n",
    "    server.ehlo()\n",
    "    #server.starttls()\n",
    "    server.ehlo()\n",
    "    server.login('jinyichen1220@gmail.com','pzhk czmg uvis bisq')\n",
    "\n",
    "\n",
    "    subject = \"this product you want is\"\n",
    "    body = \"test if i can send this email from the python project\"\n",
    "\n",
    "    msg = f\"subject:{subject}\\n\\n{body}\"\n",
    "\n",
    "    server.sendmail(\n",
    "     'jinyichen1220@gmail.com', \n",
    "     'Jinyichen1220@gmail.com',\n",
    "       msg\n",
    "\n",
    "   )\n"
   ]
  },
  {
   "cell_type": "code",
   "execution_count": 94,
   "id": "d3d78618-6153-49e8-8005-64fcced36ed0",
   "metadata": {},
   "outputs": [],
   "source": [
    "def send_mail():\n",
    "    server = smtplib.SMTP_SSL('smtp.gmail.com', 465)\n",
    "    server.ehlo()\n",
    "    #server.starttls()\n",
    "    server.ehlo()\n",
    "    server.login('jinyichen1220@gmail.com', 'your_app_specific_password')\n",
    "\n",
    "    # Fixed indentation for these lines to match the function's indentation level\n",
    "    subject = \"this product you want is below 15\"\n",
    "    body = \"test if i can send this email from the python project\"\n",
    "\n",
    "    msg = f\"subject:{subject}\\n\\n{body}\"\n",
    "\n",
    "    # Fixed indentation and added missing recipient parameter\n",
    "    server.sendmail(\n",
    "        'Jinyichen1220@gmail.com',\n",
    "        'Jinyichen1220@gmail.com',  # Added recipient email which was missing\n",
    "        msg\n",
    "    )"
   ]
  },
  {
   "cell_type": "code",
   "execution_count": 113,
   "id": "2da98419-f95e-4475-b951-593600473652",
   "metadata": {},
   "outputs": [],
   "source": [
    "import time\n",
    "import smtplib\n",
    "from email.mime.text import MIMEText\n",
    "from email.mime.multipart import MIMEMultipart\n",
    "\n",
    "def check_price():\n",
    "    # Your price checking logic here\n",
    "    URL = 'https://www.amazon.de/gp/product/B0D5BFCF8J/ref=ewc_pr_img_2?smid=A3SLCXYMOIU03X&th=1&psc=1'\n",
    "\n",
    "#https://httpbin.org/get\n",
    "    headers = {\"User-Agent\": \"Mozilla/5.0 (Macintosh; Intel Mac OS X 10_15_7) AppleWebKit/537.36 (KHTML, like Gecko) Chrome/135.0.0.0 Safari/537.36\"}\n",
    "\n",
    "    page = requests.get(URL, headers = headers) \n",
    "    \n",
    "\n",
    "    Soup1 = BeautifulSoup(page.content, \"html.parser\")\n",
    "    Soup2 = BeautifulSoup(Soup1.prettify(),) # make things look better\n",
    "    title = Soup2.find(id = 'productTitle').get_text()\n",
    "    price = Soup2.find(id = 'corePriceDisplay_desktop_feature_div').get_text()\n",
    "\n",
    "    price = price.strip()[:2]\n",
    "    title = title.strip()\n",
    "\n",
    "    import datetime\n",
    "\n",
    "    today =datetime.date.today()\n",
    "\n",
    "    import csv\n",
    "\n",
    "    header = ['Title', 'Price','Date']\n",
    "    data = [title, price,today]\n",
    "    with open('AmazonwebScraperDataset.csv','a+', newline = '',encoding = 'UTF8') as f:\n",
    "      writer = csv.writer(f)\n",
    "      writer.writerow(data)\n",
    "\n",
    "    if(float(price) < 16):\n",
    "      send_mail()\n",
    "    \n",
    "\n",
    "\n",
    "\n",
    "\n",
    "\n",
    "\n",
    "\n",
    "\n",
    "\n",
    "\n"
   ]
  },
  {
   "cell_type": "code",
   "execution_count": 126,
   "id": "30a1bdf2-e968-4d95-8349-18b2032a32d2",
   "metadata": {},
   "outputs": [
    {
     "name": "stdout",
     "output_type": "stream",
     "text": [
      "Failed to send email: (535, b'5.7.8 Username and Password not accepted. For more information, go to\\n5.7.8  https://support.google.com/mail/?p=BadCredentials a640c23a62f3a-ad52d04b04esm966106166b.15 - gsmtp')\n",
      "Failed to send email: (535, b'5.7.8 Username and Password not accepted. For more information, go to\\n5.7.8  https://support.google.com/mail/?p=BadCredentials a640c23a62f3a-ad52d438c3csm950381166b.88 - gsmtp')\n",
      "Failed to send email: (535, b'5.7.8 Username and Password not accepted. For more information, go to\\n5.7.8  https://support.google.com/mail/?p=BadCredentials 4fb4d7f45d1cf-6004d4f5fe5sm9412498a12.7 - gsmtp')\n"
     ]
    },
    {
     "ename": "KeyboardInterrupt",
     "evalue": "",
     "output_type": "error",
     "traceback": [
      "\u001b[0;31m---------------------------------------------------------------------------\u001b[0m",
      "\u001b[0;31mKeyboardInterrupt\u001b[0m                         Traceback (most recent call last)",
      "Cell \u001b[0;32mIn[126], line 45\u001b[0m\n\u001b[1;32m     43\u001b[0m \u001b[38;5;28;01mwhile\u001b[39;00m(\u001b[38;5;28;01mTrue\u001b[39;00m):\n\u001b[1;32m     44\u001b[0m     check_price()\n\u001b[0;32m---> 45\u001b[0m     time\u001b[38;5;241m.\u001b[39msleep(\u001b[38;5;241m5\u001b[39m)\n",
      "\u001b[0;31mKeyboardInterrupt\u001b[0m: "
     ]
    }
   ],
   "source": [
    "import time\n",
    "import smtplib\n",
    "from email.mime.text import MIMEText\n",
    "from email.mime.multipart import MIMEMultipart\n",
    "\n",
    "def check_price():\n",
    "    # Your price checking logic here\n",
    "    \n",
    "    # If you need to send an email, use this approach:\n",
    "    try:\n",
    "        # Email configuration\n",
    "        sender_email = \"jinyichen1220@gmail.com\"\n",
    "        receiver_email = \"jinyichen1991t@gmail.com\"\n",
    "        password = \"your_app_specific_password\"  # Not your regular Gmail password\n",
    "        \n",
    "        # Create message\n",
    "        message = MIMEMultipart()\n",
    "        message[\"From\"] = sender_email\n",
    "        message[\"To\"] = receiver_email\n",
    "        message[\"Subject\"] = \"Price Alert\"\n",
    "        \n",
    "        body = \"Your price alert message here\"\n",
    "        message.attach(MIMEText(body, \"plain\"))\n",
    "        \n",
    "        # Connect to Gmail's SMTP server\n",
    "        server = smtplib.SMTP(\"smtp.gmail.com\", 587)\n",
    "        server.starttls()\n",
    "        \n",
    "        # Log in using app-specific password\n",
    "        server.login(sender_email, password)\n",
    "        \n",
    "        # Send email\n",
    "        server.sendmail(sender_email, receiver_email, message.as_string())\n",
    "        \n",
    "        # Close connection\n",
    "        server.quit()\n",
    "        \n",
    "        print(\"Email sent successfully\")\n",
    "    except Exception as e:\n",
    "        print(f\"Failed to send email: {e}\")\n",
    "\n",
    "# Main loop\n",
    "while(True):\n",
    "    check_price()\n",
    "    time.sleep(5)  # 5 seconds  #86400 for a day that is 24*60*60s\n",
    "\n",
    "# and then stop this manually with the pause button"
   ]
  },
  {
   "cell_type": "code",
   "execution_count": 134,
   "id": "7546f006-98ec-4aad-9a2f-501b15e2aa14",
   "metadata": {},
   "outputs": [
    {
     "name": "stdout",
     "output_type": "stream",
     "text": [
      "价格监控程序已启动...\n",
      "价格低于16，已发送邮件提醒！\n",
      "价格低于16，已发送邮件提醒！\n"
     ]
    },
    {
     "ename": "KeyboardInterrupt",
     "evalue": "",
     "output_type": "error",
     "traceback": [
      "\u001b[0;31m---------------------------------------------------------------------------\u001b[0m",
      "\u001b[0;31mKeyboardInterrupt\u001b[0m                         Traceback (most recent call last)",
      "Cell \u001b[0;32mIn[134], line 90\u001b[0m\n\u001b[1;32m     87\u001b[0m check_price()\n\u001b[1;32m     88\u001b[0m \u001b[38;5;66;03m# 每隔一小时检查一次价格\u001b[39;00m\n\u001b[1;32m     89\u001b[0m \u001b[38;5;66;03m# 可以根据需要调整时间间隔\u001b[39;00m\n\u001b[0;32m---> 90\u001b[0m time\u001b[38;5;241m.\u001b[39msleep(\u001b[38;5;241m5\u001b[39m)\n",
      "\u001b[0;31mKeyboardInterrupt\u001b[0m: "
     ]
    }
   ],
   "source": [
    "import time\n",
    "import smtplib\n",
    "import requests\n",
    "from bs4 import BeautifulSoup\n",
    "from email.mime.text import MIMEText\n",
    "from email.mime.multipart import MIMEMultipart\n",
    "\n",
    "def check_price():\n",
    "    try:\n",
    "        # 这里替换为你想要监控的网站URL\n",
    "        URL = 'https://www.amazon.de/gp/product/B0D5BFCF8J/ref=ewc_pr_img_2?smid=A3SLCXYMOIU03X&th=1&psc=1'\n",
    "\n",
    "        \n",
    "        headers = {\"User-Agent\": \"Mozilla/5.0 (Macintosh; Intel Mac OS X 10_15_7) AppleWebKit/537.36 (KHTML, like Gecko) Chrome/135.0.0.0 Safari/537.36\"}\n",
    "\n",
    "        page = requests.get(URL, headers = headers) \n",
    "    \n",
    "\n",
    "        Soup1 = BeautifulSoup(page.content, \"html.parser\")\n",
    "        Soup2 = BeautifulSoup(Soup1.prettify(),) # make things look better\n",
    "        title = Soup2.find(id = 'productTitle').get_text()\n",
    "        price = Soup2.find(id = 'corePriceDisplay_desktop_feature_div').get_text()\n",
    "\n",
    "        price = price.strip()[:2]\n",
    "        title = title.strip()\n",
    "\n",
    "        import datetime\n",
    "\n",
    "        today =datetime.date.today()\n",
    "\n",
    "        import csv\n",
    "\n",
    "        header = ['Title', 'Price','Date']\n",
    "        data = [title, price,today]\n",
    "        with open('AmazonwebScraperDataset.csv','a+', newline = '',encoding = 'UTF8') as f:\n",
    "          writer = csv.writer(f)\n",
    "          writer.writerow(data)\n",
    "\n",
    "        if(float(price) < 16):\n",
    "                send_email(price)\n",
    "                print(f\"价格低于16，已发送邮件提醒！\")\n",
    "        else:\n",
    "            print(\"无法找到价格元素\")\n",
    "            \n",
    "    except Exception as e:\n",
    "        print(f\"检查价格时出错: {e}\")\n",
    "\n",
    "    \n",
    "\n",
    "def send_email(price):\n",
    "    # 邮件配置\n",
    "    sender_email = \"jinyichen1220@gmail.com\"  # 替换为你的Gmail邮箱\n",
    "    receiver_email = \"jinyichen1991@gmail.com\"  # 替换为接收邮件的邮箱\n",
    "    password = \"pzhk czmg uvis bisq\"  # 替换为你的应用专用密码\n",
    "    \n",
    "    # 创建邮件\n",
    "    message = MIMEMultipart()\n",
    "    message[\"From\"] = sender_email\n",
    "    message[\"To\"] = receiver_email\n",
    "    message[\"Subject\"] = \"价格提醒 - 价格低于16\"\n",
    "    \n",
    "    body = f\"您监控的商品价格现在是 {price}，低于16的阈值！\\n\\n快去购买吧！\"\n",
    "    message.attach(MIMEText(body, \"plain\"))\n",
    "    \n",
    "    try:\n",
    "        # 连接到Gmail的SMTP服务器\n",
    "        server = smtplib.SMTP(\"smtp.gmail.com\", 587)\n",
    "        server.starttls()\n",
    "        \n",
    "        # 使用应用专用密码登录\n",
    "        server.login(sender_email, password)\n",
    "        \n",
    "        # 发送邮件\n",
    "        server.sendmail(sender_email, receiver_email, message.as_string())\n",
    "        \n",
    "        # 关闭连接\n",
    "        server.quit()\n",
    "        \n",
    "        return True\n",
    "    except Exception as e:\n",
    "        print(f\"发送邮件失败: {e}\")\n",
    "        return False\n",
    "\n",
    "# 主循环\n",
    "print(\"价格监控程序已启动...\")\n",
    "while True:\n",
    "    check_price()\n",
    "    # 每隔一小时检查一次价格\n",
    "    # 可以根据需要调整时间间隔\n",
    "    time.sleep(5)  # 3600秒 = 1小时\n",
    "    \n",
    "# 使用Jupyter Notebook的暂停按钮手动停止程序\n",
    "\n",
    "\n",
    "\n"
   ]
  },
  {
   "cell_type": "code",
   "execution_count": null,
   "id": "75327845-a2c9-4bd6-8979-bf057ab3c9d0",
   "metadata": {},
   "outputs": [],
   "source": []
  }
 ],
 "metadata": {
  "kernelspec": {
   "display_name": "Python [conda env:base] *",
   "language": "python",
   "name": "conda-base-py"
  },
  "language_info": {
   "codemirror_mode": {
    "name": "ipython",
    "version": 3
   },
   "file_extension": ".py",
   "mimetype": "text/x-python",
   "name": "python",
   "nbconvert_exporter": "python",
   "pygments_lexer": "ipython3",
   "version": "3.12.7"
  }
 },
 "nbformat": 4,
 "nbformat_minor": 5
}
